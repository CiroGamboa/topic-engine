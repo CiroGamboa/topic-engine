{
 "cells": [
  {
   "attachments": {},
   "cell_type": "markdown",
   "metadata": {},
   "source": [
    "# Graph Analysis\n",
    "After uploading the dataset to Neo4j, it is possible to perform Cypher queries for analyzing the graph dynamics and structure. There are several analysis that can be perfomed with the given graph structure, such as getting analyzing the user expertise by checking his/her favorite topics, suggest subcategories by looking at the most popular topics, etc."
   ]
  },
  {
   "cell_type": "code",
   "execution_count": 2,
   "metadata": {},
   "outputs": [],
   "source": [
    "# Import the libraries and access the graph\n",
    "from py2neo import Graph\n",
    "\n",
    "# Using env vars\n",
    "# neo4j_host = os.environ.get('NEO4J_HOST')\n",
    "# neo4j_port = os.environ.get('NEO4J_PORT')\n",
    "# neo4j_user = os.environ.get('NEO4J_USER')\n",
    "# neo4j_password = os.environ.get('NEO4J_PASSWORD')\n",
    "\n",
    "neo4j_host = \"localhost\"\n",
    "neo4j_port = 7687\n",
    "neo4j_user = \"neo4j\"\n",
    "neo4j_password = \"test\"\n",
    "graph = Graph(\"bolt://\" + neo4j_host + ':' + str(neo4j_port),\n",
    "                             auth=(neo4j_user, neo4j_password))"
   ]
  },
  {
   "cell_type": "code",
   "execution_count": 23,
   "metadata": {},
   "outputs": [
    {
     "name": "stdout",
     "output_type": "stream",
     "text": [
      "Node('User', user_id=127896)\n",
      "Node('User', user_id=102726)\n",
      "Node('User', user_id=106640)\n",
      "Node('User', user_id=124344)\n",
      "Node('User', user_id=103399)\n",
      "Node('User', user_id=105765)\n",
      "Node('User', user_id=114826)\n",
      "Node('User', user_id=104554)\n",
      "Node('User', user_id=109860)\n",
      "Node('User', user_id=124378)\n"
     ]
    }
   ],
   "source": [
    "# Get users with predicts relationships\n",
    "result = graph.run(\"MATCH (u:User)-[p:PREDICTS]-() RETURN distinct(u)\")\n",
    "for i in result:\n",
    "    print(i)\n"
   ]
  },
  {
   "cell_type": "code",
   "execution_count": 30,
   "metadata": {},
   "outputs": [
    {
     "name": "stdout",
     "output_type": "stream",
     "text": [
      "{'u': Node('User', user_id=124344), 'c': Node('Category', category_id=10333, title='Geopolitics – Armed Conflict'), 'relationships_amount': 236}\n",
      "{'u': Node('User', user_id=124344), 'c': Node('Category', category_id=10349, title='Effective Altruism'), 'relationships_amount': 222}\n",
      "{'u': Node('User', user_id=124344), 'c': Node('Category', category_id=10353, title='Politics – US'), 'relationships_amount': 200}\n",
      "{'u': Node('User', user_id=124344), 'c': Node('Category', category_id=10315, title='Geopolitics'), 'relationships_amount': 142}\n",
      "{'u': Node('User', user_id=124344), 'c': Node('Category', category_id=10345, title='Novel Coronavirus (Covid-19)'), 'relationships_amount': 106}\n",
      "{'u': Node('User', user_id=124344), 'c': Node('Category', category_id=9814, title='Series – Nuclear Threats'), 'relationships_amount': 99}\n",
      "{'u': Node('User', user_id=124344), 'c': Node('Category', category_id=10052, title='Ukraine'), 'relationships_amount': 86}\n",
      "{'u': Node('User', user_id=124344), 'c': Node('Category', category_id=10354, title='Social issues'), 'relationships_amount': 70}\n",
      "{'u': Node('User', user_id=124344), 'c': Node('Category', category_id=10182, title='Politics – European'), 'relationships_amount': 63}\n",
      "{'u': Node('User', user_id=124344), 'c': Node('Category', category_id=10306, title='Politics'), 'relationships_amount': 54}\n"
     ]
    }
   ],
   "source": [
    "### Favorite categories per user\n",
    "user_id = 124344 #User to consult\n",
    "amount_of_results = 10\n",
    "#Run query\n",
    "result = graph.run(\"MATCH (u:User)-[p:PREDICTS]-(q:Question)-[b:BELONGSTO]-(c:Category) WHERE u.user_id=$user RETURN u,c, COUNT(c) as relationships_amount ORDER BY relationships_amount DESC LIMIT $amount\", user=user_id, amount=amount_of_results).data()\n",
    "#Print results\n",
    "for i in result:\n",
    "    print(i)\n",
    "\n"
   ]
  },
  {
   "cell_type": "code",
   "execution_count": 31,
   "metadata": {},
   "outputs": [
    {
     "name": "stdout",
     "output_type": "stream",
     "text": [
      "{'u': Node('User', user_id=124344), 't': Node('Topic', title='United States', topic_id='Q30'), 'relationships_amount': 347}\n",
      "{'u': Node('User', user_id=124344), 't': Node('Topic', title='Metaculus', topic_id='Q65086363'), 'relationships_amount': 300}\n",
      "{'u': Node('User', user_id=124344), 't': Node('Topic', title='Not out', topic_id='Q3595513'), 'relationships_amount': 175}\n",
      "{'u': Node('User', user_id=124344), 't': Node('Topic', title='Russia', topic_id='Q159'), 'relationships_amount': 145}\n",
      "{'u': Node('User', user_id=124344), 't': Node('Topic', title='China', topic_id='Q148'), 'relationships_amount': 114}\n",
      "{'u': Node('User', user_id=124344), 't': Node('Topic', title='Ukraine', topic_id='Q212'), 'relationships_amount': 110}\n",
      "{'u': Node('User', user_id=124344), 't': Node('Topic', title='President of the United States', topic_id='Q11696'), 'relationships_amount': 103}\n",
      "{'u': Node('User', user_id=124344), 't': Node('Topic', title='Donald Trump', topic_id='Q22686'), 'relationships_amount': 100}\n",
      "{'u': Node('User', user_id=124344), 't': Node('Topic', title='Nuclear weapon', topic_id='Q12802'), 'relationships_amount': 100}\n",
      "{'u': Node('User', user_id=124344), 't': Node('Topic', title='COVID-19 pandemic', topic_id='Q81068910'), 'relationships_amount': 92}\n"
     ]
    }
   ],
   "source": [
    "# Favorite topics per user\n",
    "user_id = 124344 #User to consult\n",
    "amount_of_results = 10\n",
    "#Run query\n",
    "result = graph.run(\"MATCH (u:User)-[p:PREDICTS]-(q:Question)-[h:HAS]-(t:Topic) WHERE u.user_id=$user RETURN u,t, COUNT((t)) as relationships_amount ORDER BY relationships_amount DESC LIMIT $amount\", user=user_id, amount=amount_of_results).data()\n",
    "#Print results\n",
    "for i in result:\n",
    "    print(i)"
   ]
  },
  {
   "cell_type": "code",
   "execution_count": 33,
   "metadata": {},
   "outputs": [
    {
     "name": "stdout",
     "output_type": "stream",
     "text": [
      "{'a': Node('Topic', title='United States', topic_id='Q30'), 'relationships_amount': 1266}\n",
      "{'a': Node('Topic', title='Metaculus', topic_id='Q65086363'), 'relationships_amount': 995}\n",
      "{'a': Node('Topic', title='Not out', topic_id='Q3595513'), 'relationships_amount': 919}\n",
      "{'a': Node('Topic', title='United States dollar', topic_id='Q4917'), 'relationships_amount': 578}\n",
      "{'a': Node('Topic', title='Artificial intelligence', topic_id='Q11660'), 'relationships_amount': 522}\n",
      "{'a': Node('Topic', title='COVID-19 pandemic', topic_id='Q81068910'), 'relationships_amount': 492}\n",
      "{'a': Node('Topic', title='China', topic_id='Q148'), 'relationships_amount': 420}\n",
      "{'a': Node('Topic', title='Free will', topic_id='Q9476'), 'relationships_amount': 399}\n",
      "{'a': Node('Topic', title='Donald Trump', topic_id='Q22686'), 'relationships_amount': 328}\n",
      "{'a': Node('Topic', title='United Kingdom', topic_id='Q145'), 'relationships_amount': 309}\n"
     ]
    }
   ],
   "source": [
    "# Topics with most relationships\n",
    "amount_of_results = 10\n",
    "#Run query\n",
    "result = graph.run(\"MATCH (a:Topic)-[r]-() RETURN a, COUNT(r) as relationships_amount ORDER BY relationships_amount DESC LIMIT $amount\", amount=amount_of_results).data()\n",
    "#Print results\n",
    "for i in result:\n",
    "    print(i)"
   ]
  }
 ],
 "metadata": {
  "kernelspec": {
   "display_name": "venv",
   "language": "python",
   "name": "python3"
  },
  "language_info": {
   "codemirror_mode": {
    "name": "ipython",
    "version": 3
   },
   "file_extension": ".py",
   "mimetype": "text/x-python",
   "name": "python",
   "nbconvert_exporter": "python",
   "pygments_lexer": "ipython3",
   "version": "3.9.12 (main, Apr  5 2022, 01:53:17) \n[Clang 12.0.0 ]"
  },
  "orig_nbformat": 4,
  "vscode": {
   "interpreter": {
    "hash": "f8c289498fd649c77c28cc44ddcabd5cb576f91a3addccd01a3e039b1fb3781c"
   }
  }
 },
 "nbformat": 4,
 "nbformat_minor": 2
}
