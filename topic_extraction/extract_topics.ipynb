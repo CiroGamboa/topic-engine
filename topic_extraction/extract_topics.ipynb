{
 "cells": [
  {
   "attachments": {},
   "cell_type": "markdown",
   "metadata": {},
   "source": [
    "# Topic Extraction"
   ]
  },
  {
   "attachments": {},
   "cell_type": "markdown",
   "metadata": {},
   "source": [
    "The extraction of the entities that are considered as topics is performed by taking every question's title and description and using the [Wikifier](https://wikifier.org/info.html) API for getting the annotations within each text. A JSON dataset with the extracted topics for each question is generated.\n",
    "\n",
    " An example of the annotations made by Wikifier for the description of this Metaculus [question](https://www.metaculus.com/questions/504/how-many-subscribers-will-netflix-have-by-2022/) is provided in the `data/annotations_example.json` file."
   ]
  },
  {
   "cell_type": "code",
   "execution_count": 2,
   "metadata": {},
   "outputs": [],
   "source": [
    "# Import libraries\n",
    "import pandas as pd\n",
    "import requests\n",
    "import json"
   ]
  },
  {
   "attachments": {},
   "cell_type": "markdown",
   "metadata": {},
   "source": [
    "### Page rank and Wiki data classes\n",
    " * Set the page rank for disambiguation and filtering. A greater page rank means more detected entities.\n",
    " * Set the wiki data classes. Every entity has many associated wiki data classes. Set this parameter to get the top X most important.\n",
    "\n"
   ]
  },
  {
   "cell_type": "code",
   "execution_count": 3,
   "metadata": {},
   "outputs": [],
   "source": [
    "# Import class for entity extraction and create instance\n",
    "from EntityExtractor import EntityExtractor\n",
    "\n",
    "page_rank = 0.006\n",
    "wiki_data_classes = 3\n",
    "\n",
    "extractor = EntityExtractor()"
   ]
  },
  {
   "attachments": {},
   "cell_type": "markdown",
   "metadata": {},
   "source": [
    "### Extraction of topics in binary questions"
   ]
  },
  {
   "cell_type": "code",
   "execution_count": 5,
   "metadata": {},
   "outputs": [],
   "source": [
    "# Read the binary question dataset (Change path to dataset)\n",
    "binary_questions = pd.read_json(\n",
    "    \"data/questions-binary-hackathon.json\",\n",
    "    orient=\"records\",\n",
    "    convert_dates=False,\n",
    ")"
   ]
  },
  {
   "cell_type": "code",
   "execution_count": 6,
   "metadata": {},
   "outputs": [
    {
     "name": "stdout",
     "output_type": "stream",
     "text": [
      "2622\n"
     ]
    }
   ],
   "source": [
    "# Generate the topic dataset for all the questions in the binary questions dataset\n",
    "# using the Wififier demo tool as entity extraction method.\n",
    "\n",
    "starts_at = 0\n",
    "finishes_at = len(binary_questions)\n",
    "topic_dataset_name = 'data/binary_topics.json'\n",
    "\n",
    "extractor.generate_topic_dataset( question_dataset = binary_questions,\n",
    "                        topic_dataset_name = topic_dataset_name, \n",
    "                        starts_at = starts_at, \n",
    "                        finishes_at = finishes_at)"
   ]
  },
  {
   "cell_type": "code",
   "execution_count": null,
   "metadata": {},
   "outputs": [],
   "source": [
    "# Open the generated topic dataset and merge it to the original question dataset\n",
    "# and create a new enriched dataset in a JSON file\n",
    "# This will only work if the length of the question dataset is equal to the topic dataset\n",
    "\n",
    "with open(topic_dataset_name, \"r\") as f: \n",
    "        binary_topics = json.load(f)\n",
    "\n",
    "EntityExtractor.join_datasets(binary_questions, binary_topics, 12, 'data/enriched-binary-questions.json')"
   ]
  },
  {
   "attachments": {},
   "cell_type": "markdown",
   "metadata": {},
   "source": [
    "### Extraction of topics in continuous questions"
   ]
  },
  {
   "cell_type": "code",
   "execution_count": null,
   "metadata": {},
   "outputs": [],
   "source": [
    "# Read the binary question dataset (Change path to dataset)\n",
    "continuous_questions = pd.read_json(\n",
    "    \"data/questions-continuous-hackathon.json\",\n",
    "    orient=\"records\",\n",
    "    convert_dates=False, \n",
    ")"
   ]
  },
  {
   "cell_type": "code",
   "execution_count": null,
   "metadata": {},
   "outputs": [],
   "source": [
    "# Generate the topic dataset for all the questions in the continuous questions dataset\n",
    "# using the Wififier demo tool as entity extraction method.\n",
    "\n",
    "starts_at = 0\n",
    "finishes_at = len(continuous_questions)\n",
    "topic_dataset_name = 'data/continuous_topics.json'\n",
    "\n",
    "extractor.generate_topic_dataset( question_dataset = continuous_questions,\n",
    "                        topic_dataset_name = topic_dataset_name, \n",
    "                        starts_at = starts_at, \n",
    "                        finishes_at = finishes_at)"
   ]
  },
  {
   "cell_type": "code",
   "execution_count": null,
   "metadata": {},
   "outputs": [],
   "source": [
    "# Open the generated topic dataset and merge it to the original question dataset\n",
    "# and create a new enriched dataset in a JSON file\n",
    "# This will only work if the length of the question dataset is equal to the topic dataset\n",
    "\n",
    "with open(topic_dataset_name, \"r\") as f: \n",
    "        continuous_topics = json.load(f)\n",
    "\n",
    "EntityExtractor.join_datasets(continuous_questions, continuous_topics, 19, 'data/enriched-continuous-questions.json')"
   ]
  }
 ],
 "metadata": {
  "kernelspec": {
   "display_name": "venv",
   "language": "python",
   "name": "python3"
  },
  "language_info": {
   "codemirror_mode": {
    "name": "ipython",
    "version": 3
   },
   "file_extension": ".py",
   "mimetype": "text/x-python",
   "name": "python",
   "nbconvert_exporter": "python",
   "pygments_lexer": "ipython3",
   "version": "3.9.12"
  },
  "orig_nbformat": 4,
  "vscode": {
   "interpreter": {
    "hash": "f8c289498fd649c77c28cc44ddcabd5cb576f91a3addccd01a3e039b1fb3781c"
   }
  }
 },
 "nbformat": 4,
 "nbformat_minor": 2
}
