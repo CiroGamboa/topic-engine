{
 "cells": [
  {
   "attachments": {},
   "cell_type": "markdown",
   "metadata": {},
   "source": [
    "# Graph Building\n",
    "\n",
    "The graph is built using helper classes, one for the node creation and one for the relationship between creation. As each type of node and relationship rely on extracting the proper data from the datasets, there is method for build each type of node and relationship. \n",
    "\n",
    "The library **py2neo** is used to facilitate the graph building, using Cypher queries directly. With this setup, it is possible to easily connect a local Neo4j instance or a production Neo4j database, just by replacing the host, port, user and password."
   ]
  },
  {
   "cell_type": "code",
   "execution_count": 1,
   "metadata": {},
   "outputs": [],
   "source": [
    "# import libraries and load env vars\n",
    "from py2neo import Graph\n",
    "import pandas as pd\n",
    "#import dotenv\n",
    "#import os\n",
    "#dotenv.load_dotenv()"
   ]
  },
  {
   "cell_type": "code",
   "execution_count": 2,
   "metadata": {},
   "outputs": [],
   "source": [
    "# Import the graph building helper classes\n",
    "from NodeBuilder import NodeBuilder\n",
    "from RelBuilder import RelBuilder"
   ]
  },
  {
   "cell_type": "code",
   "execution_count": 3,
   "metadata": {},
   "outputs": [],
   "source": [
    "# Load the question datasets\n",
    "binary_questions = pd.read_json(\n",
    "    \"data/enriched-binary-questions.json\",\n",
    "    orient=\"records\",\n",
    "    convert_dates=False, # This is necessary, otherwise Pandas messes up date conversion.\n",
    ")\n",
    "continuous_questions = pd.read_json(\n",
    "    \"data/enriched-continuous-questions.json\",\n",
    "    orient=\"records\",\n",
    "    convert_dates=False, # This is necessary, otherwise Pandas messes up date conversion.\n",
    ")\n"
   ]
  },
  {
   "cell_type": "code",
   "execution_count": 4,
   "metadata": {},
   "outputs": [],
   "source": [
    "# Read the prediction datasets\n",
    "binary_predictions = pd.read_json(\n",
    "    \"data/predictions-binary-hackathon.json\",\n",
    "    orient=\"records\",\n",
    "    convert_dates=False, # This is necessary, otherwise Pandas messes up date conversion.\n",
    ")\n",
    "continuous_predictions = pd.read_json(\n",
    "    \"data/predictions-continuous-hackathon-v2.json\",\n",
    "    orient=\"records\",\n",
    "    convert_dates=False, # This is necessary, otherwise Pandas messes up date conversion.\n",
    ")\n",
    "\n",
    "binary_predictions = binary_predictions.iloc[:100]\n",
    "continuous_predictions = continuous_predictions.iloc[:100]"
   ]
  },
  {
   "cell_type": "code",
   "execution_count": 5,
   "metadata": {},
   "outputs": [],
   "source": [
    "# Variables to access the Neo4j database\n",
    "\n",
    "# Using env vars\n",
    "# neo4j_host = os.environ.get('NEO4J_HOST')\n",
    "# neo4j_port = os.environ.get('NEO4J_PORT')\n",
    "# neo4j_user = os.environ.get('NEO4J_USER')\n",
    "# neo4j_password = os.environ.get('NEO4J_PASSWORD')\n",
    "\n",
    "neo4j_host = \"localhost\"\n",
    "neo4j_port = 7687\n",
    "neo4j_user = \"neo4j\"\n",
    "neo4j_password = \"test\""
   ]
  },
  {
   "cell_type": "code",
   "execution_count": 6,
   "metadata": {},
   "outputs": [],
   "source": [
    "# Create the graph instance and the building helpers\n",
    "graph = Graph(\"bolt://\" + neo4j_host + ':' + str(neo4j_port),\n",
    "                             auth=(neo4j_user, neo4j_password))"
   ]
  },
  {
   "attachments": {},
   "cell_type": "markdown",
   "metadata": {},
   "source": [
    "### Node creation\n",
    "\n",
    "For creating the nodes, there is a method for extracting each type of node from the dataset, making sure there are not duplicate nodes. It is good idea to count how many nodes are going to be created before executing the query.\n",
    "\n",
    "After creating every type of node, within the Neo4j browser is possible to check how many nodes were created by using the following query. In this example, we are checking the User nodes:\n",
    "\n",
    "For getting all the User nodes\n",
    "```\n",
    "MATCH (n:User) RETURN n\n",
    "```\n",
    "\n",
    "For counting the nodes:\n",
    "```\n",
    "MATCH (n:User) RETURN count(n) AS count\n",
    "```"
   ]
  },
  {
   "cell_type": "code",
   "execution_count": null,
   "metadata": {},
   "outputs": [],
   "source": [
    "# For creating nodes\n",
    "node_builder = NodeBuilder(graph, binary_questions, binary_predictions, continuous_questions, continuous_predictions)"
   ]
  },
  {
   "cell_type": "code",
   "execution_count": null,
   "metadata": {},
   "outputs": [],
   "source": [
    "# Create the binary question nodes\n",
    "node_builder.create_question_nodes(question_type='binary')"
   ]
  },
  {
   "cell_type": "code",
   "execution_count": null,
   "metadata": {},
   "outputs": [],
   "source": [
    "# Create the continuous question nodes\n",
    "node_builder.create_question_nodes(question_type='continuous')"
   ]
  },
  {
   "cell_type": "code",
   "execution_count": null,
   "metadata": {},
   "outputs": [],
   "source": [
    "# Create the category nodes\n",
    "node_builder.create_category_nodes()"
   ]
  },
  {
   "cell_type": "code",
   "execution_count": null,
   "metadata": {},
   "outputs": [],
   "source": [
    "# Create the topic nodes\n",
    "node_builder.create_topic_nodes()"
   ]
  },
  {
   "cell_type": "code",
   "execution_count": null,
   "metadata": {},
   "outputs": [],
   "source": [
    "# Create user nodes\n",
    "node_builder.create_user_nodes()"
   ]
  },
  {
   "attachments": {},
   "cell_type": "markdown",
   "metadata": {},
   "source": [
    "### Relationship creation\n",
    "For creating the relationships between the nodes, the nodes must exist. There is a method for every kind of relationship. It is good idea to know how many relationships are going to be created before executing the query. For this use case, relationships are much numerous than nodes. Each relationship has a unique name to identify easily which relationship is being queried or used. \n",
    "\n",
    "For checking the created relationships, within the Neo4j browser, it is possible to run the following queries. In this example, we are checking the CONTAINS relationship.\n",
    "\n",
    "\n",
    "For getting all the CONTAINS relationships data\n",
    "```\n",
    "MATCH ()-[r:CONTAINS]->()\n",
    "RETURN r\n",
    "```\n",
    "\n",
    "For counting how many CONTAINS relationships are\n",
    "```\n",
    "MATCH ()-[r:CONTAINS]->()\n",
    "RETURN count(r) as count\n",
    "```"
   ]
  },
  {
   "cell_type": "code",
   "execution_count": 7,
   "metadata": {},
   "outputs": [],
   "source": [
    "# For creating relationships\n",
    "rel_builder = RelBuilder(graph, binary_questions, binary_predictions, continuous_questions, continuous_predictions)"
   ]
  },
  {
   "cell_type": "code",
   "execution_count": null,
   "metadata": {},
   "outputs": [],
   "source": [
    "# Create the category-topic relationships\n",
    "# Relationship name: CONTAINS\n",
    "rel_builder.create_category_topic_relations()"
   ]
  },
  {
   "cell_type": "code",
   "execution_count": null,
   "metadata": {},
   "outputs": [],
   "source": [
    "# Create the question-topic relationships\n",
    "# Relationship name: HAS\n",
    "rel_builder.create_question_topic_relations()"
   ]
  },
  {
   "cell_type": "code",
   "execution_count": null,
   "metadata": {},
   "outputs": [],
   "source": [
    "# Create the question-category relationships\n",
    "# Relationship name: BELONGS TO\n",
    "rel_builder.create_question_category_relations()"
   ]
  },
  {
   "cell_type": "code",
   "execution_count": 8,
   "metadata": {},
   "outputs": [
    {
     "name": "stdout",
     "output_type": "stream",
     "text": [
      "Created 7 relationships\n"
     ]
    }
   ],
   "source": [
    "# Create the user-question relationships\n",
    "# Relationship name: CONTAINS\n",
    "rel_builder.create_user_question_relations()"
   ]
  }
 ],
 "metadata": {
  "kernelspec": {
   "display_name": "venv",
   "language": "python",
   "name": "python3"
  },
  "language_info": {
   "codemirror_mode": {
    "name": "ipython",
    "version": 3
   },
   "file_extension": ".py",
   "mimetype": "text/x-python",
   "name": "python",
   "nbconvert_exporter": "python",
   "pygments_lexer": "ipython3",
   "version": "3.9.12"
  },
  "orig_nbformat": 4,
  "vscode": {
   "interpreter": {
    "hash": "f8c289498fd649c77c28cc44ddcabd5cb576f91a3addccd01a3e039b1fb3781c"
   }
  }
 },
 "nbformat": 4,
 "nbformat_minor": 2
}
